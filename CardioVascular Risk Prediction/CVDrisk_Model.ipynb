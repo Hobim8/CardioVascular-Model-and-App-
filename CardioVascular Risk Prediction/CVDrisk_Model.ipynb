{
  "cells": [
    {
      "cell_type": "code",
      "execution_count": null,
      "metadata": {
        "id": "PPLvTQshUDp3"
      },
      "outputs": [],
      "source": [
        "import pandas as pd\n",
        "import numpy as np\n",
        "from sklearn.model_selection import train_test_split\n",
        "import matplotlib.pyplot as plt\n",
        "import seaborn as sns"
      ]
    },
    {
      "cell_type": "code",
      "execution_count": null,
      "metadata": {
        "id": "bh9klmMF_0eG"
      },
      "outputs": [],
      "source": [
        "#import the dataset that will be used to develop this model\n",
        "data = pd.read_csv('/content/drive/MyDrive/framingham_heart_study.csv')\n",
        "data.head()"
      ]
    },
    {
      "cell_type": "code",
      "execution_count": null,
      "metadata": {
        "id": "b6ifDHqPAPCf"
      },
      "outputs": [],
      "source": [
        "#We need to drop columns that will not be used for this model\n",
        "#To avoid noise and to promote model accuracy"
      ]
    },
    {
      "cell_type": "code",
      "execution_count": null,
      "metadata": {
        "id": "vPfR5CqjAozv"
      },
      "outputs": [],
      "source": [
        "data.head()"
      ]
    },
    {
      "cell_type": "code",
      "execution_count": null,
      "metadata": {
        "id": "onSHWqhSBGBz"
      },
      "outputs": [],
      "source": [
        "#Let's try to understand and clean the data\n",
        "data.describe()"
      ]
    },
    {
      "cell_type": "code",
      "execution_count": null,
      "metadata": {
        "id": "z05D1ZFEB0dt"
      },
      "outputs": [],
      "source": [
        "data.info()"
      ]
    },
    {
      "cell_type": "code",
      "execution_count": null,
      "metadata": {
        "id": "1Ti6m3L-B4id"
      },
      "outputs": [],
      "source": [
        "#Let's check for missing values and duplicate\n",
        "data.isnull().sum()"
      ]
    },
    {
      "cell_type": "code",
      "execution_count": null,
      "metadata": {
        "id": "1RBpdVDTCdqK"
      },
      "outputs": [],
      "source": [
        "data.duplicated().sum()"
      ]
    },
    {
      "cell_type": "code",
      "execution_count": null,
      "metadata": {
        "id": "156de461"
      },
      "outputs": [],
      "source": [
        "# Fill missing values with the median\n",
        "data.fillna(data.median(), inplace=True)\n",
        "\n",
        "# Verify that there are no more missing values\n",
        "print(\"Missing values after filling with median:\")\n",
        "print(data.isnull().sum())"
      ]
    },
    {
      "cell_type": "code",
      "execution_count": null,
      "metadata": {
        "id": "lHxKD4XPEzHy"
      },
      "outputs": [],
      "source": [
        "#let rename the columns for more readabilty\n",
        "data.rename(columns={\n",
        "    'male': 'gender',\n",
        "    'age': 'age',\n",
        "    'education': 'education_level',\n",
        "    'currentSmoker': 'currently_smokes',\n",
        "    'cigsPerDay': 'cigarettes_per_day',\n",
        "    'BPMeds': 'bp_medication',\n",
        "    'prevalentStroke': 'history_of_stroke',\n",
        "    'prevalentHyp': 'has_hypertension',\n",
        "    'diabetes': 'has_diabetes',\n",
        "    'totChol': 'total_cholesterol',\n",
        "    'sysBP': 'systolic_bp',\n",
        "    'diaBP': 'diastolic_bp',\n",
        "    'BMI': 'bmi',\n",
        "    'heartRate': 'heart_rate',\n",
        "    'glucose': 'glucose_level',\n",
        "    'TenYearCHD': 'cvd_risk'\n",
        "}, inplace=True)\n",
        "\n",
        "data.head()"
      ]
    },
    {
      "cell_type": "markdown",
      "metadata": {
        "id": "gcksxAbc3Sjk"
      },
      "source": [
        "Let perform some data exploratory analysis to understand the data"
      ]
    },
    {
      "cell_type": "code",
      "execution_count": null,
      "metadata": {
        "id": "36928421"
      },
      "outputs": [],
      "source": [
        "plt.figure(figsize=(6, 4))\n",
        "sns.countplot(data=data, x='gender', hue='cvd_risk')\n",
        "plt.title('Count of CVD Risk by Gender')\n",
        "plt.xlabel('Gender (0: Female, 1: Male)')\n",
        "plt.ylabel('Count')\n",
        "plt.xticks([0, 1], ['Female', 'Male'])\n",
        "plt.show()"
      ]
    },
    {
      "cell_type": "code",
      "execution_count": null,
      "metadata": {
        "id": "8389dd32"
      },
      "outputs": [],
      "source": [
        "# Group by gender and cvd_risk and count the occurrences\n",
        "gender_cvd_counts = data.groupby(['gender', 'cvd_risk']).size().unstack(fill_value=0)\n",
        "\n",
        "# Calculate the percentage of CVD risk within each gender\n",
        "gender_cvd_counts['Total'] = gender_cvd_counts[0] + gender_cvd_counts[1]\n",
        "gender_cvd_counts['CVD_Risk_Percentage'] = (gender_cvd_counts[1] / gender_cvd_counts['Total']) * 100\n",
        "\n",
        "print(\"Percentage of CVD Risk by Gender:\")\n",
        "print(gender_cvd_counts[['CVD_Risk_Percentage']])"
      ]
    },
    {
      "cell_type": "markdown",
      "metadata": {
        "id": "BhPMrzyH5mF8"
      },
      "source": [
        "The above code shows the gender with more risk to cardiovascular diseases\n"
      ]
    },
    {
      "cell_type": "code",
      "execution_count": null,
      "metadata": {
        "id": "TNzkHZhq5uby"
      },
      "outputs": [],
      "source": [
        "#Let check if the data is imbalanced\n",
        "sns.countplot(data=data, x='cvd_risk')\n",
        "plt.title('Count of CVD Risk')\n",
        "plt.xticks([0, 1], ['No CVD', 'CVD'])\n",
        "plt.show()"
      ]
    },
    {
      "cell_type": "code",
      "execution_count": null,
      "metadata": {
        "id": "aqO0LS_U8v5B"
      },
      "outputs": [],
      "source": [
        "#We need to compare age distrubution by risk\n",
        "sns.boxplot(x='cvd_risk', y='age', data=data)\n",
        "plt.title(\"Age Distribution by CVD Risk\")\n",
        "plt.xticks([0, 1], ['No CVD', 'CVD'])\n",
        "plt.show()"
      ]
    },
    {
      "cell_type": "code",
      "execution_count": null,
      "metadata": {
        "id": "X2rL9CPk-hBr"
      },
      "outputs": [],
      "source": [
        "plt.figure(figsize=(12, 8))\n",
        "sns.heatmap(data.corr(), annot=True, cmap='coolwarm', fmt='.2f')\n",
        "plt.title(\"Correlation Heatmap of Features\")\n",
        "plt.show()"
      ]
    },
    {
      "cell_type": "code",
      "execution_count": null,
      "metadata": {
        "id": "n5bqUWNy-wu-"
      },
      "outputs": [],
      "source": [
        "print(data.groupby('cvd_risk')[['age', 'total_cholesterol', 'bmi', 'glucose_level']].mean())\n"
      ]
    },
    {
      "cell_type": "code",
      "execution_count": null,
      "metadata": {
        "id": "Ehwb0fUE-zZH"
      },
      "outputs": [],
      "source": [
        "data.head()"
      ]
    },
    {
      "cell_type": "code",
      "execution_count": null,
      "metadata": {
        "id": "Ld_lJAkyDln8"
      },
      "outputs": [],
      "source": [
        "#We need to drop two columns that is not needed for this model development\n",
        "data.drop(columns=['education_level','heart_rate'], inplace=True)\n",
        "\n",
        "print(\"Columns after dropping:\")\n",
        "print(data.columns)"
      ]
    },
    {
      "cell_type": "code",
      "execution_count": null,
      "metadata": {
        "id": "iVAUTb6-FT8K"
      },
      "outputs": [],
      "source": [
        "data.isnull().sum()"
      ]
    },
    {
      "cell_type": "markdown",
      "metadata": {
        "id": "lBMWztCz_H6I"
      },
      "source": [
        "Now let's develop the model using XGBoost."
      ]
    },
    {
      "cell_type": "code",
      "execution_count": null,
      "metadata": {
        "id": "s3cPvmcoCL-h"
      },
      "outputs": [],
      "source": [
        "#let's split the dataset into X and Y\n",
        "X = data.drop('cvd_risk', axis=1)\n",
        "y = data['cvd_risk']\n",
        "\n",
        "X_train, X_test, y_train, y_test = train_test_split(\n",
        "    X, y,\n",
        "    test_size=0.2,\n",
        "    stratify=y,\n",
        "    random_state=42\n",
        ")"
      ]
    },
    {
      "cell_type": "code",
      "execution_count": null,
      "metadata": {
        "colab": {
          "background_save": true
        },
        "id": "is6hzSBdD39A"
      },
      "outputs": [],
      "source": [
        "from xgboost import XGBClassifier\n",
        "from sklearn.metrics import accuracy_score, f1_score, classification_report, confusion_matrix\n",
        "from sklearn.model_selection import GridSearchCV\n"
      ]
    },
    {
      "cell_type": "code",
      "execution_count": null,
      "metadata": {
        "colab": {
          "background_save": true
        },
        "id": "ESXMyy6GE88g"
      },
      "outputs": [],
      "source": [
        "#Calculate class weights\n",
        "neg, pos = (y_train == 0).sum(), (y_train == 1).sum()\n",
        "scale = neg / pos\n",
        "print(f\"scale_pos_weight = {scale:.2f}\")"
      ]
    },
    {
      "cell_type": "code",
      "execution_count": null,
      "metadata": {
        "colab": {
          "background_save": true
        },
        "id": "JFn71dF4FW6_"
      },
      "outputs": [],
      "source": [
        "model = XGBClassifier(\n",
        "    scale_pos_weight=scale,\n",
        "    use_label_encoder=False,\n",
        "    eval_metric='logloss',\n",
        "    random_state=42\n",
        ")\n",
        "\n",
        "#Train the model\n",
        "model.fit(X_train, y_train)\n",
        "\n",
        "#Predict on test data\n",
        "y_pred = model.predict(X_test)\n",
        "\n",
        "#Evaluate\n",
        "print(\"Accuracy:\", accuracy_score(y_test, y_pred))\n",
        "print(\"F1 Score:\", f1_score(y_test, y_pred))\n",
        "print(\"\\nClassification Report:\\n\", classification_report(y_test, y_pred))\n",
        "print(\"\\nConfusion Matrix:\\n\", confusion_matrix(y_test, y_pred))"
      ]
    },
    {
      "cell_type": "markdown",
      "metadata": {
        "id": "YpyP8ka1HSn1"
      },
      "source": [
        "**Model Performance Summary and Improvement Plan**\n",
        "\n",
        "After training the XGBoost model on the cleaned cardiovascular dataset, the results showed an overall accuracy of 78.5%. However, a deeper look into the performance revealed some important issues:\n",
        "\n",
        "    The model performed well on class 0 (people without CVD), with high precision and recall.\n",
        "\n",
        "    But it struggled with class 1 (people with CVD), showing a low F1-score of 0.22 and recall of only 19%.\n",
        "\n",
        "    This means the model misses most of the people who actually have cardiovascular disease, which is a serious concern in real-world applications.\n",
        "\n",
        "**Confusion Matrix:**\n",
        "\n",
        "Out of 129 people who actually had CVD:\n",
        "\n",
        "    The model correctly predicted only 25\n",
        "\n",
        "    It wrongly classified 104 as “no risk”\n",
        "\n",
        "This is caused by class imbalance in the data — the number of “no risk” cases is much higher than the number of “at risk” cases. As a result, the model is biased toward predicting 0 (no CVD).\n",
        "\n",
        "**Plan to Improve the Model**\n",
        "\n",
        "To solve this problem, I will use SMOTE (Synthetic Minority Oversampling Technique) on the training data. SMOTE will help by:\n",
        "\n",
        "    Generating new synthetic examples of class 1 (CVD)\n",
        "\n",
        "    Making the training data more balanced\n",
        "\n",
        "    Helping the model learn patterns for people at risk\n",
        "\n",
        "This should improve the model's ability to correctly detect people with CVD, increasing both recall and F1-score."
      ]
    },
    {
      "cell_type": "code",
      "execution_count": null,
      "metadata": {
        "id": "o_7miUtRHtQo"
      },
      "outputs": [],
      "source": [
        "#Solutions to solve the biased model\n",
        "from imblearn.over_sampling import SMOTE\n",
        "\n",
        "#Apply SMOTE only to training data\n",
        "smote = SMOTE(random_state=42)\n",
        "X_train_bal, y_train_bal = smote.fit_resample(X_train, y_train)\n",
        "\n",
        "#Re-train XGBoost model\n",
        "model_smote = XGBClassifier(\n",
        "    use_label_encoder=False,\n",
        "    eval_metric='logloss',\n",
        "    random_state=42\n",
        ")\n",
        "model_smote.fit(X_train_bal, y_train_bal)\n",
        "\n",
        "#Evaluate on original test set\n",
        "y_pred_bal = model_smote.predict(X_test)\n",
        "\n",
        "print(\"Accuracy:\", accuracy_score(y_test, y_pred_bal))\n",
        "print(\"F1 Score:\", f1_score(y_test, y_pred_bal))\n",
        "print(\"\\nClassification Report:\\n\", classification_report(y_test, y_pred_bal))\n",
        "print(\"\\nConfusion Matrix:\\n\", confusion_matrix(y_test, y_pred_bal))"
      ]
    },
    {
      "cell_type": "markdown",
      "metadata": {
        "id": "uwosyJqQISZ5"
      },
      "source": [
        "After applying SMOTE to balance the training data, the XGBoost model was retrained. This method aimed to improve the model’s ability to detect cardiovascular risk cases (class 1).\n",
        "\n",
        "However, the results still show a low recall (16%) and F1-score (0.19) for the positive class. This means the model still misses many true CVD cases.\n",
        "\n",
        "Although SMOTE helped balance the data, the underlying problem seems to be feature strength — the current features may not clearly separate those at risk from those not at risk.\n",
        "\n",
        "This shows that balancing alone is not enough. The model may benefit from:\n",
        "\n",
        "    Tuning more XGBoost hyperparameters\n",
        "\n",
        "    Adding better or engineered features\n",
        "\n",
        "    Trying other models for comparison"
      ]
    },
    {
      "cell_type": "code",
      "execution_count": null,
      "metadata": {
        "colab": {
          "background_save": true
        },
        "id": "4b9NJtr9Jmk0"
      },
      "outputs": [],
      "source": [
        "# We need to know which feature the model uses alot for it's decision\n",
        "\n",
        "# Get feature importance scores\n",
        "importance_scores = model_smote.feature_importances_\n",
        "\n",
        "# Create DataFrame for plotting\n",
        "importance_df = pd.DataFrame({\n",
        "    'Feature': X_train.columns,\n",
        "    'Importance': importance_scores\n",
        "}).sort_values(by='Importance', ascending=False)\n",
        "\n",
        "# Plot\n",
        "plt.figure(figsize=(10, 6))\n",
        "sns.barplot(x='Importance', y='Feature', data=importance_df)\n",
        "plt.title(\"Feature Importance (XGBoost)\")\n",
        "plt.tight_layout()\n",
        "plt.show()"
      ]
    },
    {
      "cell_type": "markdown",
      "metadata": {
        "id": "G1gxXkeqMutu"
      },
      "source": [
        "The feature importance plot shows that the top predictors of cardiovascular disease in this dataset are:\n",
        "\n",
        "    Smoking status (currently_smokes)\n",
        "\n",
        "    Use of blood pressure medication (bp_medication)\n",
        "\n",
        "    Age\n",
        "\n",
        "    Cigarettes per day\n",
        "\n",
        "These features have the highest impact on the model's decisions. On the other hand, features like history_of_stroke, has_diabetes, and bmi had relatively low importance. This may be due to limited variation in those columns or their overlap with other features.\n",
        "\n",
        "Understanding feature importance helps us explain how the model makes decisions, and can guide future improvements, such as collecting better health indicators or engineering new features."
      ]
    },
    {
      "cell_type": "code",
      "execution_count": null,
      "metadata": {
        "colab": {
          "base_uri": "https://localhost:8080/"
        },
        "id": "XITJ3NQkM64B",
        "outputId": "fb28e802-8de2-4528-b9f5-e1da5ad178d5"
      },
      "outputs": [
        {
          "name": "stdout",
          "output_type": "stream",
          "text": [
            "Fitting 3 folds for each of 48 candidates, totalling 144 fits\n"
          ]
        },
        {
          "name": "stderr",
          "output_type": "stream",
          "text": [
            "/usr/local/lib/python3.11/dist-packages/xgboost/core.py:158: UserWarning: [14:21:03] WARNING: /workspace/src/learner.cc:740: \n",
            "Parameters: { \"use_label_encoder\" } are not used.\n",
            "\n",
            "  warnings.warn(smsg, UserWarning)\n"
          ]
        },
        {
          "name": "stdout",
          "output_type": "stream",
          "text": [
            "Best Parameters from GridSearchCV:\n",
            "{'colsample_bytree': 1.0, 'learning_rate': 0.1, 'max_depth': 5, 'n_estimators': 200, 'subsample': 0.8}\n"
          ]
        }
      ],
      "source": [
        "# Define base XGBoost model\n",
        "xgb = XGBClassifier(use_label_encoder=False, eval_metric='logloss', random_state=42)\n",
        "\n",
        "# Define small grid of parameters (fast to run)\n",
        "param_grid = {\n",
        "    'n_estimators': [100, 200],\n",
        "    'max_depth': [3, 4, 5],\n",
        "    'learning_rate': [0.01, 0.1],\n",
        "    'subsample': [0.8, 1.0],\n",
        "    'colsample_bytree': [0.8, 1.0]\n",
        "}\n",
        "\n",
        "# Set up GridSearchCV\n",
        "grid_search = GridSearchCV(\n",
        "    estimator=xgb,\n",
        "    param_grid=param_grid,\n",
        "    scoring='f1',\n",
        "    cv=3,\n",
        "    verbose=1,\n",
        "    n_jobs=-1\n",
        ")\n",
        "\n",
        "# Fit on SMOTE-balanced training data\n",
        "grid_search.fit(X_train_bal, y_train_bal)\n",
        "\n",
        "# Show best parameters\n",
        "print(\"Best Parameters from GridSearchCV:\")\n",
        "print(grid_search.best_params_)\n",
        "\n",
        "# Save best model\n",
        "best_model = grid_search.best_estimator_"
      ]
    },
    {
      "cell_type": "markdown",
      "metadata": {
        "id": "qvQha-vcphmb"
      },
      "source": [
        "After evaluating the initial model performance, I applied SMOTE to correct the class imbalance problem in the dataset. This step helped balance the number of people with and without cardiovascular disease, which gave the model a fairer chance to learn both cases.\n",
        "\n",
        "Next, I used GridSearchCV to find the best hyperparameters for the XGBoost model. This process tested multiple combinations of important settings like tree depth, learning rate, and number of estimators. The best performing parameters found were:\n",
        "\n",
        "{'colsample_bytree': 1.0, 'learning_rate': 0.1, 'max_depth': 5, 'n_estimators': 200, 'subsample': 0.8}\n",
        "\n",
        "With these settings, the model is now better optimized to identify patients at risk of cardiovascular disease, although there's still room for improvement in recall. The process showed that just balancing the data isn't enough — careful tuning and understanding feature importance are also necessary.\n",
        "\n",
        "This optimized model will now be used in the next step of this project: deployment using Streamlit, where users will be able to input patient data and receive real-time risk predictions."
      ]
    },
    {
      "cell_type": "code",
      "execution_count": null,
      "metadata": {
        "colab": {
          "base_uri": "https://localhost:8080/"
        },
        "id": "-abDvzwzqGeY",
        "outputId": "07bf5d38-7dd8-40c2-af70-a83e9cbad7fb"
      },
      "outputs": [
        {
          "name": "stdout",
          "output_type": "stream",
          "text": [
            " F1 Score: 0.21311475409836064\n",
            "\n",
            "Classification Report:\n",
            "               precision    recall  f1-score   support\n",
            "\n",
            "           0       0.86      0.88      0.87       719\n",
            "           1       0.23      0.20      0.21       129\n",
            "\n",
            "    accuracy                           0.77       848\n",
            "   macro avg       0.54      0.54      0.54       848\n",
            "weighted avg       0.76      0.77      0.77       848\n",
            "\n",
            "\n",
            "Confusion Matrix:\n",
            " [[630  89]\n",
            " [103  26]]\n"
          ]
        }
      ],
      "source": [
        "y_pred_best = best_model.predict(X_test)\n",
        "\n",
        "print(\" F1 Score:\", f1_score(y_test, y_pred_best))\n",
        "print(\"\\nClassification Report:\\n\", classification_report(y_test, y_pred_best))\n",
        "print(\"\\nConfusion Matrix:\\n\", confusion_matrix(y_test, y_pred_best))"
      ]
    },
    {
      "cell_type": "markdown",
      "metadata": {
        "id": "CIS0s3RNtBlz"
      },
      "source": [
        "The main goal of all these steps — balancing, tuning, and evaluation — is to make the model better at correctly identifying people who are truly at risk of cardiovascular disease. This is important because missing a high-risk case can have serious health consequences. The goal is not just to achieve high accuracy, but to build a model that is both accurate and sensitive enough to support real-world health decision-making."
      ]
    },
    {
      "cell_type": "markdown",
      "metadata": {
        "id": "fzht3Q_4uCWE"
      },
      "source": [
        "After optimizing XGBoost and applying SMOTE, results were still limited by low recall and F1-score for detecting at-risk patients. As a next step, I explored alternative models to compare performance and confirm whether XGBoost is the best option or if another model handles this data better."
      ]
    },
    {
      "cell_type": "code",
      "execution_count": null,
      "metadata": {
        "colab": {
          "base_uri": "https://localhost:8080/"
        },
        "id": "rMtWwK8Pv1ox",
        "outputId": "3860dcc1-5137-4841-a6a3-e53730ecdd58"
      },
      "outputs": [
        {
          "name": "stderr",
          "output_type": "stream",
          "text": [
            "/usr/local/lib/python3.11/dist-packages/sklearn/linear_model/_logistic.py:465: ConvergenceWarning: lbfgs failed to converge (status=1):\n",
            "STOP: TOTAL NO. OF ITERATIONS REACHED LIMIT.\n",
            "\n",
            "Increase the number of iterations (max_iter) or scale the data as shown in:\n",
            "    https://scikit-learn.org/stable/modules/preprocessing.html\n",
            "Please also refer to the documentation for alternative solver options:\n",
            "    https://scikit-learn.org/stable/modules/linear_model.html#logistic-regression\n",
            "  n_iter_i = _check_optimize_result(\n"
          ]
        },
        {
          "name": "stdout",
          "output_type": "stream",
          "text": [
            "\n",
            "Logistic Regression\n",
            "F1 Score: 0.33093525179856115\n",
            "Classification Report:\n",
            "              precision    recall  f1-score   support\n",
            "\n",
            "           0       0.89      0.70      0.78       719\n",
            "           1       0.24      0.53      0.33       129\n",
            "\n",
            "    accuracy                           0.67       848\n",
            "   macro avg       0.57      0.62      0.56       848\n",
            "weighted avg       0.79      0.67      0.71       848\n",
            "\n",
            "Confusion Matrix:\n",
            "[[500 219]\n",
            " [ 60  69]]\n",
            "\n",
            "Random Forest\n",
            "F1 Score: 0.20833333333333334\n",
            "Classification Report:\n",
            "              precision    recall  f1-score   support\n",
            "\n",
            "           0       0.86      0.88      0.87       719\n",
            "           1       0.23      0.19      0.21       129\n",
            "\n",
            "    accuracy                           0.78       848\n",
            "   macro avg       0.54      0.54      0.54       848\n",
            "weighted avg       0.76      0.78      0.77       848\n",
            "\n",
            "Confusion Matrix:\n",
            "[[633  86]\n",
            " [104  25]]\n",
            "\n",
            "Support Vector Machine\n",
            "F1 Score: 0.3541666666666667\n",
            "Classification Report:\n",
            "              precision    recall  f1-score   support\n",
            "\n",
            "           0       0.91      0.63      0.75       719\n",
            "           1       0.24      0.66      0.35       129\n",
            "\n",
            "    accuracy                           0.63       848\n",
            "   macro avg       0.58      0.64      0.55       848\n",
            "weighted avg       0.81      0.63      0.69       848\n",
            "\n",
            "Confusion Matrix:\n",
            "[[453 266]\n",
            " [ 44  85]]\n",
            "\n",
            "Model Comparison Summary:\n",
            "                    Model  F1 Score\n",
            "0     Logistic Regression     0.331\n",
            "1           Random Forest     0.208\n",
            "2  Support Vector Machine     0.354\n"
          ]
        }
      ],
      "source": [
        "# We need to try other algorithm to see if we can fix the issue with F1 and recall\n",
        "\n",
        "from sklearn.linear_model import LogisticRegression\n",
        "from sklearn.ensemble import RandomForestClassifier\n",
        "from sklearn.svm import SVC\n",
        "\n",
        "# Define models\n",
        "models = {\n",
        "    'Logistic Regression': LogisticRegression(class_weight='balanced', max_iter=1000, random_state=42),\n",
        "    'Random Forest': RandomForestClassifier(class_weight='balanced', n_estimators=100, random_state=42),\n",
        "    'Support Vector Machine': SVC(class_weight='balanced', probability=True, random_state=42)\n",
        "}\n",
        "\n",
        "results = []\n",
        "\n",
        "for name, model in models.items():\n",
        "    model.fit(X_train_bal, y_train_bal)\n",
        "    y_pred = model.predict(X_test)\n",
        "    f1 = f1_score(y_test, y_pred)\n",
        "    print(f\"\\n{name}\")\n",
        "    print(\"F1 Score:\", f1)\n",
        "    print(\"Classification Report:\")\n",
        "    print(classification_report(y_test, y_pred))\n",
        "    print(\"Confusion Matrix:\")\n",
        "    print(confusion_matrix(y_test, y_pred))\n",
        "\n",
        "    results.append({\n",
        "        'Model': name,\n",
        "        'F1 Score': round(f1, 3)\n",
        "    })\n",
        "\n",
        "# Display summary\n",
        "import pandas as pd\n",
        "summary_df = pd.DataFrame(results)\n",
        "print(\"\\nModel Comparison Summary:\")\n",
        "print(summary_df)"
      ]
    },
    {
      "cell_type": "markdown",
      "metadata": {
        "id": "FJy6dlrNw8IL"
      },
      "source": [
        "After comparing several classification models, the Support Vector Machine (SVM) emerged as the best performer for cardiovascular disease prediction. It achieved the highest recall (66%) and F1-score (0.35) for the positive class (CVD), meaning it was the most effective at correctly identifying individuals at risk.\n",
        "\n",
        "While it had lower overall accuracy than some other models, its ability to reduce false negatives is more valuable in medical contexts, where missing a high-risk patient can lead to serious consequences. This makes SVM the most suitable model for deployment in this system."
      ]
    },
    {
      "cell_type": "code",
      "execution_count": null,
      "metadata": {
        "colab": {
          "base_uri": "https://localhost:8080/",
          "height": 80
        },
        "id": "pGl76wNq0X9x",
        "outputId": "26769dfd-1779-4fda-8b4d-627c55959144"
      },
      "outputs": [
        {
          "data": {
            "text/html": [
              "<style>#sk-container-id-2 {\n",
              "  /* Definition of color scheme common for light and dark mode */\n",
              "  --sklearn-color-text: #000;\n",
              "  --sklearn-color-text-muted: #666;\n",
              "  --sklearn-color-line: gray;\n",
              "  /* Definition of color scheme for unfitted estimators */\n",
              "  --sklearn-color-unfitted-level-0: #fff5e6;\n",
              "  --sklearn-color-unfitted-level-1: #f6e4d2;\n",
              "  --sklearn-color-unfitted-level-2: #ffe0b3;\n",
              "  --sklearn-color-unfitted-level-3: chocolate;\n",
              "  /* Definition of color scheme for fitted estimators */\n",
              "  --sklearn-color-fitted-level-0: #f0f8ff;\n",
              "  --sklearn-color-fitted-level-1: #d4ebff;\n",
              "  --sklearn-color-fitted-level-2: #b3dbfd;\n",
              "  --sklearn-color-fitted-level-3: cornflowerblue;\n",
              "\n",
              "  /* Specific color for light theme */\n",
              "  --sklearn-color-text-on-default-background: var(--sg-text-color, var(--theme-code-foreground, var(--jp-content-font-color1, black)));\n",
              "  --sklearn-color-background: var(--sg-background-color, var(--theme-background, var(--jp-layout-color0, white)));\n",
              "  --sklearn-color-border-box: var(--sg-text-color, var(--theme-code-foreground, var(--jp-content-font-color1, black)));\n",
              "  --sklearn-color-icon: #696969;\n",
              "\n",
              "  @media (prefers-color-scheme: dark) {\n",
              "    /* Redefinition of color scheme for dark theme */\n",
              "    --sklearn-color-text-on-default-background: var(--sg-text-color, var(--theme-code-foreground, var(--jp-content-font-color1, white)));\n",
              "    --sklearn-color-background: var(--sg-background-color, var(--theme-background, var(--jp-layout-color0, #111)));\n",
              "    --sklearn-color-border-box: var(--sg-text-color, var(--theme-code-foreground, var(--jp-content-font-color1, white)));\n",
              "    --sklearn-color-icon: #878787;\n",
              "  }\n",
              "}\n",
              "\n",
              "#sk-container-id-2 {\n",
              "  color: var(--sklearn-color-text);\n",
              "}\n",
              "\n",
              "#sk-container-id-2 pre {\n",
              "  padding: 0;\n",
              "}\n",
              "\n",
              "#sk-container-id-2 input.sk-hidden--visually {\n",
              "  border: 0;\n",
              "  clip: rect(1px 1px 1px 1px);\n",
              "  clip: rect(1px, 1px, 1px, 1px);\n",
              "  height: 1px;\n",
              "  margin: -1px;\n",
              "  overflow: hidden;\n",
              "  padding: 0;\n",
              "  position: absolute;\n",
              "  width: 1px;\n",
              "}\n",
              "\n",
              "#sk-container-id-2 div.sk-dashed-wrapped {\n",
              "  border: 1px dashed var(--sklearn-color-line);\n",
              "  margin: 0 0.4em 0.5em 0.4em;\n",
              "  box-sizing: border-box;\n",
              "  padding-bottom: 0.4em;\n",
              "  background-color: var(--sklearn-color-background);\n",
              "}\n",
              "\n",
              "#sk-container-id-2 div.sk-container {\n",
              "  /* jupyter's `normalize.less` sets `[hidden] { display: none; }`\n",
              "     but bootstrap.min.css set `[hidden] { display: none !important; }`\n",
              "     so we also need the `!important` here to be able to override the\n",
              "     default hidden behavior on the sphinx rendered scikit-learn.org.\n",
              "     See: https://github.com/scikit-learn/scikit-learn/issues/21755 */\n",
              "  display: inline-block !important;\n",
              "  position: relative;\n",
              "}\n",
              "\n",
              "#sk-container-id-2 div.sk-text-repr-fallback {\n",
              "  display: none;\n",
              "}\n",
              "\n",
              "div.sk-parallel-item,\n",
              "div.sk-serial,\n",
              "div.sk-item {\n",
              "  /* draw centered vertical line to link estimators */\n",
              "  background-image: linear-gradient(var(--sklearn-color-text-on-default-background), var(--sklearn-color-text-on-default-background));\n",
              "  background-size: 2px 100%;\n",
              "  background-repeat: no-repeat;\n",
              "  background-position: center center;\n",
              "}\n",
              "\n",
              "/* Parallel-specific style estimator block */\n",
              "\n",
              "#sk-container-id-2 div.sk-parallel-item::after {\n",
              "  content: \"\";\n",
              "  width: 100%;\n",
              "  border-bottom: 2px solid var(--sklearn-color-text-on-default-background);\n",
              "  flex-grow: 1;\n",
              "}\n",
              "\n",
              "#sk-container-id-2 div.sk-parallel {\n",
              "  display: flex;\n",
              "  align-items: stretch;\n",
              "  justify-content: center;\n",
              "  background-color: var(--sklearn-color-background);\n",
              "  position: relative;\n",
              "}\n",
              "\n",
              "#sk-container-id-2 div.sk-parallel-item {\n",
              "  display: flex;\n",
              "  flex-direction: column;\n",
              "}\n",
              "\n",
              "#sk-container-id-2 div.sk-parallel-item:first-child::after {\n",
              "  align-self: flex-end;\n",
              "  width: 50%;\n",
              "}\n",
              "\n",
              "#sk-container-id-2 div.sk-parallel-item:last-child::after {\n",
              "  align-self: flex-start;\n",
              "  width: 50%;\n",
              "}\n",
              "\n",
              "#sk-container-id-2 div.sk-parallel-item:only-child::after {\n",
              "  width: 0;\n",
              "}\n",
              "\n",
              "/* Serial-specific style estimator block */\n",
              "\n",
              "#sk-container-id-2 div.sk-serial {\n",
              "  display: flex;\n",
              "  flex-direction: column;\n",
              "  align-items: center;\n",
              "  background-color: var(--sklearn-color-background);\n",
              "  padding-right: 1em;\n",
              "  padding-left: 1em;\n",
              "}\n",
              "\n",
              "\n",
              "/* Toggleable style: style used for estimator/Pipeline/ColumnTransformer box that is\n",
              "clickable and can be expanded/collapsed.\n",
              "- Pipeline and ColumnTransformer use this feature and define the default style\n",
              "- Estimators will overwrite some part of the style using the `sk-estimator` class\n",
              "*/\n",
              "\n",
              "/* Pipeline and ColumnTransformer style (default) */\n",
              "\n",
              "#sk-container-id-2 div.sk-toggleable {\n",
              "  /* Default theme specific background. It is overwritten whether we have a\n",
              "  specific estimator or a Pipeline/ColumnTransformer */\n",
              "  background-color: var(--sklearn-color-background);\n",
              "}\n",
              "\n",
              "/* Toggleable label */\n",
              "#sk-container-id-2 label.sk-toggleable__label {\n",
              "  cursor: pointer;\n",
              "  display: flex;\n",
              "  width: 100%;\n",
              "  margin-bottom: 0;\n",
              "  padding: 0.5em;\n",
              "  box-sizing: border-box;\n",
              "  text-align: center;\n",
              "  align-items: start;\n",
              "  justify-content: space-between;\n",
              "  gap: 0.5em;\n",
              "}\n",
              "\n",
              "#sk-container-id-2 label.sk-toggleable__label .caption {\n",
              "  font-size: 0.6rem;\n",
              "  font-weight: lighter;\n",
              "  color: var(--sklearn-color-text-muted);\n",
              "}\n",
              "\n",
              "#sk-container-id-2 label.sk-toggleable__label-arrow:before {\n",
              "  /* Arrow on the left of the label */\n",
              "  content: \"▸\";\n",
              "  float: left;\n",
              "  margin-right: 0.25em;\n",
              "  color: var(--sklearn-color-icon);\n",
              "}\n",
              "\n",
              "#sk-container-id-2 label.sk-toggleable__label-arrow:hover:before {\n",
              "  color: var(--sklearn-color-text);\n",
              "}\n",
              "\n",
              "/* Toggleable content - dropdown */\n",
              "\n",
              "#sk-container-id-2 div.sk-toggleable__content {\n",
              "  max-height: 0;\n",
              "  max-width: 0;\n",
              "  overflow: hidden;\n",
              "  text-align: left;\n",
              "  /* unfitted */\n",
              "  background-color: var(--sklearn-color-unfitted-level-0);\n",
              "}\n",
              "\n",
              "#sk-container-id-2 div.sk-toggleable__content.fitted {\n",
              "  /* fitted */\n",
              "  background-color: var(--sklearn-color-fitted-level-0);\n",
              "}\n",
              "\n",
              "#sk-container-id-2 div.sk-toggleable__content pre {\n",
              "  margin: 0.2em;\n",
              "  border-radius: 0.25em;\n",
              "  color: var(--sklearn-color-text);\n",
              "  /* unfitted */\n",
              "  background-color: var(--sklearn-color-unfitted-level-0);\n",
              "}\n",
              "\n",
              "#sk-container-id-2 div.sk-toggleable__content.fitted pre {\n",
              "  /* unfitted */\n",
              "  background-color: var(--sklearn-color-fitted-level-0);\n",
              "}\n",
              "\n",
              "#sk-container-id-2 input.sk-toggleable__control:checked~div.sk-toggleable__content {\n",
              "  /* Expand drop-down */\n",
              "  max-height: 200px;\n",
              "  max-width: 100%;\n",
              "  overflow: auto;\n",
              "}\n",
              "\n",
              "#sk-container-id-2 input.sk-toggleable__control:checked~label.sk-toggleable__label-arrow:before {\n",
              "  content: \"▾\";\n",
              "}\n",
              "\n",
              "/* Pipeline/ColumnTransformer-specific style */\n",
              "\n",
              "#sk-container-id-2 div.sk-label input.sk-toggleable__control:checked~label.sk-toggleable__label {\n",
              "  color: var(--sklearn-color-text);\n",
              "  background-color: var(--sklearn-color-unfitted-level-2);\n",
              "}\n",
              "\n",
              "#sk-container-id-2 div.sk-label.fitted input.sk-toggleable__control:checked~label.sk-toggleable__label {\n",
              "  background-color: var(--sklearn-color-fitted-level-2);\n",
              "}\n",
              "\n",
              "/* Estimator-specific style */\n",
              "\n",
              "/* Colorize estimator box */\n",
              "#sk-container-id-2 div.sk-estimator input.sk-toggleable__control:checked~label.sk-toggleable__label {\n",
              "  /* unfitted */\n",
              "  background-color: var(--sklearn-color-unfitted-level-2);\n",
              "}\n",
              "\n",
              "#sk-container-id-2 div.sk-estimator.fitted input.sk-toggleable__control:checked~label.sk-toggleable__label {\n",
              "  /* fitted */\n",
              "  background-color: var(--sklearn-color-fitted-level-2);\n",
              "}\n",
              "\n",
              "#sk-container-id-2 div.sk-label label.sk-toggleable__label,\n",
              "#sk-container-id-2 div.sk-label label {\n",
              "  /* The background is the default theme color */\n",
              "  color: var(--sklearn-color-text-on-default-background);\n",
              "}\n",
              "\n",
              "/* On hover, darken the color of the background */\n",
              "#sk-container-id-2 div.sk-label:hover label.sk-toggleable__label {\n",
              "  color: var(--sklearn-color-text);\n",
              "  background-color: var(--sklearn-color-unfitted-level-2);\n",
              "}\n",
              "\n",
              "/* Label box, darken color on hover, fitted */\n",
              "#sk-container-id-2 div.sk-label.fitted:hover label.sk-toggleable__label.fitted {\n",
              "  color: var(--sklearn-color-text);\n",
              "  background-color: var(--sklearn-color-fitted-level-2);\n",
              "}\n",
              "\n",
              "/* Estimator label */\n",
              "\n",
              "#sk-container-id-2 div.sk-label label {\n",
              "  font-family: monospace;\n",
              "  font-weight: bold;\n",
              "  display: inline-block;\n",
              "  line-height: 1.2em;\n",
              "}\n",
              "\n",
              "#sk-container-id-2 div.sk-label-container {\n",
              "  text-align: center;\n",
              "}\n",
              "\n",
              "/* Estimator-specific */\n",
              "#sk-container-id-2 div.sk-estimator {\n",
              "  font-family: monospace;\n",
              "  border: 1px dotted var(--sklearn-color-border-box);\n",
              "  border-radius: 0.25em;\n",
              "  box-sizing: border-box;\n",
              "  margin-bottom: 0.5em;\n",
              "  /* unfitted */\n",
              "  background-color: var(--sklearn-color-unfitted-level-0);\n",
              "}\n",
              "\n",
              "#sk-container-id-2 div.sk-estimator.fitted {\n",
              "  /* fitted */\n",
              "  background-color: var(--sklearn-color-fitted-level-0);\n",
              "}\n",
              "\n",
              "/* on hover */\n",
              "#sk-container-id-2 div.sk-estimator:hover {\n",
              "  /* unfitted */\n",
              "  background-color: var(--sklearn-color-unfitted-level-2);\n",
              "}\n",
              "\n",
              "#sk-container-id-2 div.sk-estimator.fitted:hover {\n",
              "  /* fitted */\n",
              "  background-color: var(--sklearn-color-fitted-level-2);\n",
              "}\n",
              "\n",
              "/* Specification for estimator info (e.g. \"i\" and \"?\") */\n",
              "\n",
              "/* Common style for \"i\" and \"?\" */\n",
              "\n",
              ".sk-estimator-doc-link,\n",
              "a:link.sk-estimator-doc-link,\n",
              "a:visited.sk-estimator-doc-link {\n",
              "  float: right;\n",
              "  font-size: smaller;\n",
              "  line-height: 1em;\n",
              "  font-family: monospace;\n",
              "  background-color: var(--sklearn-color-background);\n",
              "  border-radius: 1em;\n",
              "  height: 1em;\n",
              "  width: 1em;\n",
              "  text-decoration: none !important;\n",
              "  margin-left: 0.5em;\n",
              "  text-align: center;\n",
              "  /* unfitted */\n",
              "  border: var(--sklearn-color-unfitted-level-1) 1pt solid;\n",
              "  color: var(--sklearn-color-unfitted-level-1);\n",
              "}\n",
              "\n",
              ".sk-estimator-doc-link.fitted,\n",
              "a:link.sk-estimator-doc-link.fitted,\n",
              "a:visited.sk-estimator-doc-link.fitted {\n",
              "  /* fitted */\n",
              "  border: var(--sklearn-color-fitted-level-1) 1pt solid;\n",
              "  color: var(--sklearn-color-fitted-level-1);\n",
              "}\n",
              "\n",
              "/* On hover */\n",
              "div.sk-estimator:hover .sk-estimator-doc-link:hover,\n",
              ".sk-estimator-doc-link:hover,\n",
              "div.sk-label-container:hover .sk-estimator-doc-link:hover,\n",
              ".sk-estimator-doc-link:hover {\n",
              "  /* unfitted */\n",
              "  background-color: var(--sklearn-color-unfitted-level-3);\n",
              "  color: var(--sklearn-color-background);\n",
              "  text-decoration: none;\n",
              "}\n",
              "\n",
              "div.sk-estimator.fitted:hover .sk-estimator-doc-link.fitted:hover,\n",
              ".sk-estimator-doc-link.fitted:hover,\n",
              "div.sk-label-container:hover .sk-estimator-doc-link.fitted:hover,\n",
              ".sk-estimator-doc-link.fitted:hover {\n",
              "  /* fitted */\n",
              "  background-color: var(--sklearn-color-fitted-level-3);\n",
              "  color: var(--sklearn-color-background);\n",
              "  text-decoration: none;\n",
              "}\n",
              "\n",
              "/* Span, style for the box shown on hovering the info icon */\n",
              ".sk-estimator-doc-link span {\n",
              "  display: none;\n",
              "  z-index: 9999;\n",
              "  position: relative;\n",
              "  font-weight: normal;\n",
              "  right: .2ex;\n",
              "  padding: .5ex;\n",
              "  margin: .5ex;\n",
              "  width: min-content;\n",
              "  min-width: 20ex;\n",
              "  max-width: 50ex;\n",
              "  color: var(--sklearn-color-text);\n",
              "  box-shadow: 2pt 2pt 4pt #999;\n",
              "  /* unfitted */\n",
              "  background: var(--sklearn-color-unfitted-level-0);\n",
              "  border: .5pt solid var(--sklearn-color-unfitted-level-3);\n",
              "}\n",
              "\n",
              ".sk-estimator-doc-link.fitted span {\n",
              "  /* fitted */\n",
              "  background: var(--sklearn-color-fitted-level-0);\n",
              "  border: var(--sklearn-color-fitted-level-3);\n",
              "}\n",
              "\n",
              ".sk-estimator-doc-link:hover span {\n",
              "  display: block;\n",
              "}\n",
              "\n",
              "/* \"?\"-specific style due to the `<a>` HTML tag */\n",
              "\n",
              "#sk-container-id-2 a.estimator_doc_link {\n",
              "  float: right;\n",
              "  font-size: 1rem;\n",
              "  line-height: 1em;\n",
              "  font-family: monospace;\n",
              "  background-color: var(--sklearn-color-background);\n",
              "  border-radius: 1rem;\n",
              "  height: 1rem;\n",
              "  width: 1rem;\n",
              "  text-decoration: none;\n",
              "  /* unfitted */\n",
              "  color: var(--sklearn-color-unfitted-level-1);\n",
              "  border: var(--sklearn-color-unfitted-level-1) 1pt solid;\n",
              "}\n",
              "\n",
              "#sk-container-id-2 a.estimator_doc_link.fitted {\n",
              "  /* fitted */\n",
              "  border: var(--sklearn-color-fitted-level-1) 1pt solid;\n",
              "  color: var(--sklearn-color-fitted-level-1);\n",
              "}\n",
              "\n",
              "/* On hover */\n",
              "#sk-container-id-2 a.estimator_doc_link:hover {\n",
              "  /* unfitted */\n",
              "  background-color: var(--sklearn-color-unfitted-level-3);\n",
              "  color: var(--sklearn-color-background);\n",
              "  text-decoration: none;\n",
              "}\n",
              "\n",
              "#sk-container-id-2 a.estimator_doc_link.fitted:hover {\n",
              "  /* fitted */\n",
              "  background-color: var(--sklearn-color-fitted-level-3);\n",
              "}\n",
              "</style><div id=\"sk-container-id-2\" class=\"sk-top-container\"><div class=\"sk-text-repr-fallback\"><pre>SVC(class_weight=&#x27;balanced&#x27;, probability=True, random_state=42)</pre><b>In a Jupyter environment, please rerun this cell to show the HTML representation or trust the notebook. <br />On GitHub, the HTML representation is unable to render, please try loading this page with nbviewer.org.</b></div><div class=\"sk-container\" hidden><div class=\"sk-item\"><div class=\"sk-estimator fitted sk-toggleable\"><input class=\"sk-toggleable__control sk-hidden--visually\" id=\"sk-estimator-id-2\" type=\"checkbox\" checked><label for=\"sk-estimator-id-2\" class=\"sk-toggleable__label fitted sk-toggleable__label-arrow\"><div><div>SVC</div></div><div><a class=\"sk-estimator-doc-link fitted\" rel=\"noreferrer\" target=\"_blank\" href=\"https://scikit-learn.org/1.6/modules/generated/sklearn.svm.SVC.html\">?<span>Documentation for SVC</span></a><span class=\"sk-estimator-doc-link fitted\">i<span>Fitted</span></span></div></label><div class=\"sk-toggleable__content fitted\"><pre>SVC(class_weight=&#x27;balanced&#x27;, probability=True, random_state=42)</pre></div> </div></div></div></div>"
            ],
            "text/plain": [
              "SVC(class_weight='balanced', probability=True, random_state=42)"
            ]
          },
          "execution_count": 42,
          "metadata": {},
          "output_type": "execute_result"
        }
      ],
      "source": [
        "# Now let's use SVM algorithm for this model\n",
        "# This is your final, selected model\n",
        "\n",
        "final_model = SVC(class_weight='balanced', probability=True, random_state=42)\n",
        "final_model.fit(X_train_bal, y_train_bal)"
      ]
    },
    {
      "cell_type": "code",
      "execution_count": null,
      "metadata": {
        "colab": {
          "base_uri": "https://localhost:8080/"
        },
        "id": "RccQpFc33RuG",
        "outputId": "c5339460-51fc-42bd-e372-12f182cfe48b"
      },
      "outputs": [
        {
          "name": "stdout",
          "output_type": "stream",
          "text": [
            "Final SVM Model Evaluation:\n",
            "F1 Score: 0.3541666666666667\n",
            "Classification Report:\n",
            "               precision    recall  f1-score   support\n",
            "\n",
            "           0       0.91      0.63      0.75       719\n",
            "           1       0.24      0.66      0.35       129\n",
            "\n",
            "    accuracy                           0.63       848\n",
            "   macro avg       0.58      0.64      0.55       848\n",
            "weighted avg       0.81      0.63      0.69       848\n",
            "\n",
            "Confusion Matrix:\n",
            " [[453 266]\n",
            " [ 44  85]]\n"
          ]
        }
      ],
      "source": [
        "y_pred_final = final_model.predict(X_test)\n",
        "\n",
        "print(\"Final SVM Model Evaluation:\")\n",
        "print(\"F1 Score:\", f1_score(y_test, y_pred_final))\n",
        "print(\"Classification Report:\\n\", classification_report(y_test, y_pred_final))\n",
        "print(\"Confusion Matrix:\\n\", confusion_matrix(y_test, y_pred_final))"
      ]
    },
    {
      "cell_type": "markdown",
      "metadata": {
        "id": "l87Fq4XQ4qZm"
      },
      "source": [
        "This model achieved the highest recall and F1-score for class 1, so it was selected for deployment."
      ]
    },
    {
      "cell_type": "code",
      "execution_count": null,
      "metadata": {
        "colab": {
          "base_uri": "https://localhost:8080/",
          "height": 607
        },
        "id": "R3z6G-as4ykc",
        "outputId": "c6476aac-e537-474f-8c8a-b2dc2b8acb0a"
      },
      "outputs": [
        {
          "output_type": "display_data",
          "data": {
            "text/plain": [
              "<Figure size 1000x600 with 1 Axes>"
            ],
            "image/png": "[encoded data removed]"
          },
          "metadata": {}
        }
      ],
      "source": [
        "# Performance results we got from each algorithm to create this model\n",
        "\n",
        "results_df = pd.DataFrame({\n",
        "    'Model': [\n",
        "        'Logistic Regression', 'Random Forest', 'XGBoost',\n",
        "        'Support Vector Machine'\n",
        "    ],\n",
        "    'Accuracy': [\n",
        "        0.67,\n",
        "        0.78,\n",
        "        0.77,\n",
        "        0.63\n",
        "    ],\n",
        "    'F1 Score': [\n",
        "        0.331,\n",
        "        0.208,\n",
        "        0.213,\n",
        "        0.354\n",
        "    ],\n",
        "    'Recall': [\n",
        "        0.53,\n",
        "        0.19,\n",
        "        0.20,\n",
        "        0.66\n",
        "    ],\n",
        "    'Precision': [\n",
        "        0.24,\n",
        "        0.23,\n",
        "        0.23,\n",
        "        0.24\n",
        "    ]\n",
        "})\n",
        "\n",
        "results_melted = results_df.melt(id_vars='Model', var_name='Metric', value_name='Score')\n",
        "figsize = (10, 6)\n",
        "plt.figure(figsize=figsize)\n",
        "ax = sns.barplot(data=results_melted, x='Score', y='Model', hue='Metric')\n",
        "\n",
        "for container in ax.containers:\n",
        "    ax.bar_label(container, fmt='%.2f', label_type='edge', padding=3)\n",
        "\n",
        "plt.title(\"Model Performance Metrics for CVD Prediction\", fontsize=14)\n",
        "plt.xlabel(\"Score\")\n",
        "plt.ylabel(\"Model\")\n",
        "plt.legend(title=\"Metric\", loc='lower right')\n",
        "plt.grid(axis='x', linestyle='--', alpha=0.7)\n",
        "plt.tight_layout()\n",
        "plt.show()"
      ]
    },
    {
      "cell_type": "markdown",
      "source": [
        "Running some test before saving the model\n"
      ],
      "metadata": {
        "id": "JarTMJ3wAvZG"
      }
    },
    {
      "cell_type": "code",
      "source": [
        "sample_input = pd.DataFrame([{\n",
        "    'gender': 1,\n",
        "    'age': 32,\n",
        "    'currently_smokes': 0,\n",
        "    'cigarettes_per_day': 20,\n",
        "    'bp_medication': 1,\n",
        "    'history_of_stroke': 0,\n",
        "    'has_hypertension': 0,\n",
        "    'has_diabetes': 0,\n",
        "    'total_cholesterol': 250,\n",
        "    'systolic_bp': 145,\n",
        "    'diastolic_bp': 90,\n",
        "    'bmi': 28.5,\n",
        "    'glucose_level': 105\n",
        "}])\n",
        "\n",
        "# Make prediction\n",
        "prediction = final_model.predict(sample_input)\n",
        "\n",
        "# get probability (if needed)\n",
        "probability = final_model.predict_proba(sample_input)\n",
        "\n",
        "# Print result\n",
        "result = \"High Risk (CVD)\" if prediction[0] == 1 else \"Low Risk\"\n",
        "print(f\" Prediction: {result}\")\n",
        "print(f\"Probability (class 1 - CVD): {probability[0][1]:.2f}\")"
      ],
      "metadata": {
        "colab": {
          "base_uri": "https://localhost:8080/"
        },
        "id": "x7JmAaLdG0mb",
        "outputId": "bf56b40b-a576-4dfa-df4a-b3d5d10815b8"
      },
      "execution_count": null,
      "outputs": [
        {
          "output_type": "stream",
          "name": "stdout",
          "text": [
            " Prediction: Low Risk\n",
            "Probability (class 1 - CVD): 0.29\n"
          ]
        }
      ]
    },
    {
      "cell_type": "markdown",
      "source": [
        "Let's save the model\n",
        "\n",
        "\n"
      ],
      "metadata": {
        "id": "It5BO0dcG1vh"
      }
    },
    {
      "cell_type": "code",
      "source": [
        "import joblib\n",
        "\n",
        "joblib.dump(final_model, 'cvd_prediction_model.pkl')\n",
        "\n",
        "print('Model successful saved as cvd_prediction_model')"
      ],
      "metadata": {
        "colab": {
          "base_uri": "https://localhost:8080/"
        },
        "id": "jj_vewZnLFFU",
        "outputId": "eee7c801-2380-40d2-bd77-ec8d9b9fecd7"
      },
      "execution_count": null,
      "outputs": [
        {
          "output_type": "stream",
          "name": "stdout",
          "text": [
            "Model successful saved as cvd_prediction_model\n"
          ]
        }
      ]
    },
    {
      "cell_type": "markdown",
      "source": [
        "Let's also save the model on Google Drive"
      ],
      "metadata": {
        "id": "aaa5QIE0Lnb7"
      }
    },
    {
      "cell_type": "code",
      "source": [
        "from google.colab import drive\n",
        "drive.mount('/content/drive')\n",
        "\n",
        "\n",
        "joblib.dump(final_model, '/content/drive/MyDrive/cvd_prediction_model.pkl')"
      ],
      "metadata": {
        "colab": {
          "base_uri": "https://localhost:8080/"
        },
        "id": "d8vsD-pvLsEb",
        "outputId": "327c7b7f-179d-4c21-babe-4dacdb0c1d58"
      },
      "execution_count": null,
      "outputs": [
        {
          "output_type": "stream",
          "name": "stdout",
          "text": [
            "Drive already mounted at /content/drive; to attempt to forcibly remount, call drive.mount(\"/content/drive\", force_remount=True).\n"
          ]
        },
        {
          "output_type": "execute_result",
          "data": {
            "text/plain": [
              "['/content/drive/MyDrive/cvd_prediction_model.pkl']"
            ]
          },
          "metadata": {},
          "execution_count": 50
        }
      ]
    },
    {
      "cell_type": "code",
      "source": [
        "from google.colab import files\n",
        "files.download('cvd_prediction_model.pkl')\n"
      ],
      "metadata": {
        "colab": {
          "base_uri": "https://localhost:8080/",
          "height": 17
        },
        "id": "bgCiBibSNRh2",
        "outputId": "a5ae3786-a8ee-4927-ce5a-2e1937281690"
      },
      "execution_count": null,
      "outputs": [
        {
          "output_type": "display_data",
          "data": {
            "text/plain": [
              "<IPython.core.display.Javascript object>"
            ],
            "application/javascript": [
              "\n",
              "    async function download(id, filename, size) {\n",
              "      if (!google.colab.kernel.accessAllowed) {\n",
              "        return;\n",
              "      }\n",
              "      const div = document.createElement('div');\n",
              "      const label = document.createElement('label');\n",
              "      label.textContent = `Downloading \"${filename}\": `;\n",
              "      div.appendChild(label);\n",
              "      const progress = document.createElement('progress');\n",
              "      progress.max = size;\n",
              "      div.appendChild(progress);\n",
              "      document.body.appendChild(div);\n",
              "\n",
              "      const buffers = [];\n",
              "      let downloaded = 0;\n",
              "\n",
              "      const channel = await google.colab.kernel.comms.open(id);\n",
              "      // Send a message to notify the kernel that we're ready.\n",
              "      channel.send({})\n",
              "\n",
              "      for await (const message of channel.messages) {\n",
              "        // Send a message to notify the kernel that we're ready.\n",
              "        channel.send({})\n",
              "        if (message.buffers) {\n",
              "          for (const buffer of message.buffers) {\n",
              "            buffers.push(buffer);\n",
              "            downloaded += buffer.byteLength;\n",
              "            progress.value = downloaded;\n",
              "          }\n",
              "        }\n",
              "      }\n",
              "      const blob = new Blob(buffers, {type: 'application/binary'});\n",
              "      const a = document.createElement('a');\n",
              "      a.href = window.URL.createObjectURL(blob);\n",
              "      a.download = filename;\n",
              "      div.appendChild(a);\n",
              "      a.click();\n",
              "      div.remove();\n",
              "    }\n",
              "  "
            ]
          },
          "metadata": {}
        },
        {
          "output_type": "display_data",
          "data": {
            "text/plain": [
              "<IPython.core.display.Javascript object>"
            ],
            "application/javascript": [
              "download(\"download_28001337-c3f2-4869-b42b-d2bce061d5c8\", \"cvd_prediction_model.pkl\", 552427)"
            ]
          },
          "metadata": {}
        }
      ]
    },
    {
      "cell_type": "markdown",
      "source": [
        "https://script.google.com/macros/s/AKfycbzn08xyprH1K8Fz7SjZs04ijkVcZHPkDV54ZrdKxboGCvhuPV3T3Vl9BR1umI7VA-D_/exec"
      ],
      "metadata": {
        "id": "n1th1UGyOPRv"
      }
    },
    {
      "cell_type": "code",
      "source": [],
      "metadata": {
        "id": "b3ESZZvxGhnI"
      },
      "execution_count": null,
      "outputs": []
    }
  ],
  "metadata": {
    "colab": {
      "provenance": []
    },
    "kernelspec": {
      "display_name": "Python 3",
      "name": "python3"
    },
    "language_info": {
      "name": "python"
    }
  },
  "nbformat": 4,
  "nbformat_minor": 0
}